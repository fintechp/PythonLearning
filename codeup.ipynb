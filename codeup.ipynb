{
 "cells": [
  {
   "cell_type": "markdown",
   "id": "57ed7533",
   "metadata": {},
   "source": [
    "# Code up pyhton 기초 100제\n",
    "\n"
   ]
  },
  {
   "cell_type": "code",
   "execution_count": null,
   "id": "428a9aa4",
   "metadata": {},
   "outputs": [],
   "source": [
    "s = input()\n",
    "\n",
    "\n",
    "print(s[0])\n",
    "print(s[1])\n",
    "print(s[2])\n",
    "print(s[3])\n",
    "print(s[4])"
   ]
  },
  {
   "cell_type": "code",
   "execution_count": null,
   "id": "339b0c23",
   "metadata": {},
   "outputs": [],
   "source": [
    "#data = [[1,2,3],[4,5,6],[7,8,9]]\n",
    "print(data[2][2])\n",
    "\n",
    "print(data[2][1])\n",
    "print(data[2][0])"
   ]
  },
  {
   "cell_type": "code",
   "execution_count": null,
   "id": "02bc597f",
   "metadata": {},
   "outputs": [],
   "source": [
    "#a = input().split(':')\n",
    "\n",
    "#print(a[1])"
   ]
  },
  {
   "cell_type": "code",
   "execution_count": null,
   "id": "61ba4d82",
   "metadata": {},
   "outputs": [],
   "source": [
    "a, b = input().split(' ')\n",
    "\n",
    "print(a+b)"
   ]
  },
  {
   "cell_type": "code",
   "execution_count": null,
   "id": "123e0c6e",
   "metadata": {},
   "outputs": [],
   "source": [
    "a, b = input().split(' ')\n",
    "\n",
    "a = int(a)\n",
    "b = int(b)\n",
    "c = a+b\n",
    "print(c)\n",
    "\n"
   ]
  },
  {
   "cell_type": "code",
   "execution_count": null,
   "id": "95e25483",
   "metadata": {},
   "outputs": [],
   "source": [
    "a = input()\n",
    "b = input()\n",
    "a = float(a)\n",
    "b = float(b)\n",
    "c = a+b\n",
    "print(c)"
   ]
  },
  {
   "cell_type": "code",
   "execution_count": null,
   "id": "7bfd5e53",
   "metadata": {},
   "outputs": [],
   "source": [
    "#16 진수 형태로 출력\n",
    "\n",
    "a = input()\n",
    "n = int(a)\n",
    "print('%x'% n)\n",
    "\n",
    "\n",
    "\n",
    "\n",
    "\n"
   ]
  },
  {
   "cell_type": "code",
   "execution_count": null,
   "id": "fe3d4009",
   "metadata": {},
   "outputs": [],
   "source": [
    "a = input()\n",
    "n = int(a)\n",
    "print('%X'% n)"
   ]
  },
  {
   "cell_type": "code",
   "execution_count": null,
   "id": "492c56dd",
   "metadata": {},
   "outputs": [],
   "source": [
    "a = input()\n",
    "n = int(a, 16)\n",
    "print('%o'% n)"
   ]
  },
  {
   "cell_type": "code",
   "execution_count": null,
   "id": "88d1eb78",
   "metadata": {},
   "outputs": [],
   "source": [
    "a = ord(input())\n",
    "print(a)"
   ]
  },
  {
   "cell_type": "code",
   "execution_count": null,
   "id": "4e9e097a",
   "metadata": {},
   "outputs": [],
   "source": [
    "n = int(input())\n",
    "print(chr(n))"
   ]
  },
  {
   "cell_type": "code",
   "execution_count": null,
   "id": "1be9e1e5",
   "metadata": {},
   "outputs": [],
   "source": [
    "a = input()\n",
    "a = int(a)\n",
    "print(-a)"
   ]
  },
  {
   "cell_type": "code",
   "execution_count": null,
   "id": "5195edbd",
   "metadata": {},
   "outputs": [],
   "source": [
    "print(chr(65))"
   ]
  },
  {
   "cell_type": "code",
   "execution_count": null,
   "id": "b152e0ca",
   "metadata": {},
   "outputs": [],
   "source": [
    "n = ord(input())\n",
    "\n",
    "print(chr(n+1))"
   ]
  },
  {
   "cell_type": "code",
   "execution_count": null,
   "id": "eda792af",
   "metadata": {},
   "outputs": [],
   "source": [
    "t = ord(input())\n",
    "\n",
    "print(t)"
   ]
  },
  {
   "cell_type": "code",
   "execution_count": null,
   "id": "3125b9c2",
   "metadata": {},
   "outputs": [],
   "source": [
    "print(chr(65))"
   ]
  },
  {
   "cell_type": "code",
   "execution_count": null,
   "id": "1fe4b78f",
   "metadata": {},
   "outputs": [],
   "source": [
    "# 입력 : 정수 두개, 출력 차이\n",
    "a, b = input().split(' ')\n",
    "\n",
    "\n",
    "\n",
    "a = float(a)\n",
    "b = float(b)\n",
    "\n",
    "print(a-b)"
   ]
  },
  {
   "cell_type": "code",
   "execution_count": null,
   "id": "182296fe",
   "metadata": {},
   "outputs": [],
   "source": [
    "a,b = input().split(' ')\n",
    "\n",
    "a = float(a)\n",
    "b = float(b)\n",
    "\n",
    "print(a*b)"
   ]
  },
  {
   "cell_type": "code",
   "execution_count": null,
   "id": "f2ea50b6",
   "metadata": {},
   "outputs": [],
   "source": [
    "s, n = input().split(' ')\n",
    "\n",
    "s = str(s)\n",
    "n = int(n)\n",
    "\n",
    "print(s*n)"
   ]
  },
  {
   "cell_type": "code",
   "execution_count": null,
   "id": "9e9d212f",
   "metadata": {},
   "outputs": [],
   "source": [
    "n = int(input())\n",
    "s = str(input())\n",
    "\n",
    "\n",
    "print(s*n)"
   ]
  },
  {
   "cell_type": "code",
   "execution_count": null,
   "id": "1fb0727b",
   "metadata": {},
   "outputs": [],
   "source": [
    "n,j  = input().split(' ')\n",
    "\n",
    "n = int(n)\n",
    "j = int(j)\n",
    "\n",
    "print(n**j)\n"
   ]
  },
  {
   "cell_type": "code",
   "execution_count": null,
   "id": "6b1f652c",
   "metadata": {},
   "outputs": [],
   "source": [
    "n,j  = input().split(' ')\n",
    "\n",
    "n = float(n)\n",
    "j = float(j)\n",
    "\n",
    "print(n**j)\n"
   ]
  },
  {
   "cell_type": "code",
   "execution_count": null,
   "id": "74a697c4",
   "metadata": {},
   "outputs": [],
   "source": [
    "a, b = input().split(' ')\n",
    "\n",
    "a = int(a)\n",
    "b = int(b)\n",
    "\n",
    "print(a//b)\n",
    "\n"
   ]
  },
  {
   "cell_type": "code",
   "execution_count": null,
   "id": "9e7f4ea4",
   "metadata": {},
   "outputs": [],
   "source": [
    "a, b = input().split(' ')\n",
    "\n",
    "a = int(a)\n",
    "b = int(b)\n",
    "\n",
    "\n",
    "print(a%b)"
   ]
  },
  {
   "cell_type": "code",
   "execution_count": null,
   "id": "3627cfff",
   "metadata": {},
   "outputs": [],
   "source": [
    "a = input()\n",
    "\n",
    "a = float(a)\n",
    "\n",
    "print(format(a,'.2f'))"
   ]
  },
  {
   "cell_type": "code",
   "execution_count": null,
   "id": "910d4219",
   "metadata": {},
   "outputs": [],
   "source": [
    "a, b = input().split(' ')\n",
    "\n",
    "a = float(a)\n",
    "b = float(b)\n",
    "\n",
    "print(format(a/b,'.3f'))"
   ]
  },
  {
   "cell_type": "code",
   "execution_count": null,
   "id": "69b5e317",
   "metadata": {},
   "outputs": [],
   "source": [
    "a, b = input().split(' ')\n",
    "\n",
    "a = int(a)\n",
    "b = int(b)\n",
    "\n",
    "print(a+b)\n",
    "print(a-b)\n",
    "print(a*b)\n",
    "print(a//b)\n",
    "print(a%b)\n",
    "print(format(a/b,'.3f'))\n"
   ]
  },
  {
   "cell_type": "code",
   "execution_count": null,
   "id": "88f1a704",
   "metadata": {},
   "outputs": [],
   "source": [
    "a, b, c = input().split(' ')\n",
    "\n",
    "a = int(a)\n",
    "b = int(b)\n",
    "c = int(c)\n",
    "\n",
    "print(a+b+c,format((a+b+c)/3,'.2f'))\n"
   ]
  },
  {
   "cell_type": "code",
   "execution_count": null,
   "id": "8afc1dab",
   "metadata": {},
   "outputs": [],
   "source": [
    "n = input()\n",
    "n = int(n)\n",
    "\n",
    "print(n<<1)\n",
    "\n",
    "# 비트연산자 오른쪽으로 한단계 밀면 2배가됨, 2진수이기 때문"
   ]
  },
  {
   "cell_type": "code",
   "execution_count": null,
   "id": "ffd0c1c9",
   "metadata": {},
   "outputs": [],
   "source": [
    "a, b = input().split(' ')\n",
    "a = int(a)\n",
    "b = int(b)\n",
    "print(a<<b)\n",
    "\n",
    "#비트 연산자를 이용해서 1을 입력한다면 2배가 되지만, 상수 b를 입력하면 2**b 배가 된다\n"
   ]
  },
  {
   "cell_type": "code",
   "execution_count": null,
   "id": "54ed83a9",
   "metadata": {},
   "outputs": [],
   "source": [
    "print('A'>'B')"
   ]
  },
  {
   "cell_type": "code",
   "execution_count": null,
   "id": "97f888b5",
   "metadata": {},
   "outputs": [],
   "source": [
    "# 비교연산자\n",
    "\n",
    "a, b = input().split(' ')\n",
    "\n",
    "a = int(a)\n",
    "b = int(b)\n",
    "\n",
    "print(a<b)"
   ]
  },
  {
   "cell_type": "code",
   "execution_count": null,
   "id": "8e7a29e6",
   "metadata": {},
   "outputs": [],
   "source": [
    "a, b = input().split(' ')\n",
    "\n",
    "a = int(a)\n",
    "b = int(b)\n",
    "\n",
    "print(a==b)"
   ]
  },
  {
   "cell_type": "code",
   "execution_count": null,
   "id": "b57c2c47",
   "metadata": {},
   "outputs": [],
   "source": [
    "a, b = input().split(' ')\n",
    "\n",
    "a = int(a)\n",
    "b = int(b)\n",
    "\n",
    "print(a<=b)"
   ]
  },
  {
   "cell_type": "code",
   "execution_count": null,
   "id": "afa158ea",
   "metadata": {},
   "outputs": [],
   "source": [
    "a, b = input().split(' ')\n",
    "\n",
    "a = int(a)\n",
    "b = int(b)\n",
    "\n",
    "print(a!=b)"
   ]
  },
  {
   "cell_type": "code",
   "execution_count": 2,
   "id": "5ad95590",
   "metadata": {},
   "outputs": [
    {
     "name": "stdout",
     "output_type": "stream",
     "text": [
      "0\n",
      "False\n"
     ]
    }
   ],
   "source": [
    "#비교 연산은 두개의 변수를 비교, 논리 연산은 bool, boolean -> True, False를 반환한다\n",
    "\n",
    "# PYTHON 에서는 0은 FALSE ELSE는 TRUE를 반환한다\n",
    "\n",
    "n = input()\n",
    "\n",
    "n = int(n) # 자료형을 int 정수형으로 변환시켜야 정확한 n으로 들어간다\n",
    "\n",
    "\n",
    "print(bool(n))"
   ]
  },
  {
   "cell_type": "code",
   "execution_count": 4,
   "id": "5bf4b7da",
   "metadata": {},
   "outputs": [
    {
     "name": "stdout",
     "output_type": "stream",
     "text": [
      "44\n",
      "True\n"
     ]
    }
   ],
   "source": [
    "# 3가지 함수 중첩 삽입 -> 자료형변경 -> 불린자료형 변경\n",
    "\n",
    "a = bool(int(input()))\n",
    "\n",
    "print(a)"
   ]
  },
  {
   "cell_type": "code",
   "execution_count": 5,
   "id": "d9432324",
   "metadata": {},
   "outputs": [
    {
     "name": "stdout",
     "output_type": "stream",
     "text": [
      "0\n",
      "True\n"
     ]
    }
   ],
   "source": [
    "# 3가지 함수 중첩 삽입 -> 자료형변경 -> 불린자료형 변경\n",
    "# NOT 연산\n",
    "\n",
    "a = bool(int(input()))\n",
    "\n",
    "print(not a)"
   ]
  },
  {
   "cell_type": "code",
   "execution_count": 9,
   "id": "f7ef2419",
   "metadata": {},
   "outputs": [
    {
     "name": "stdout",
     "output_type": "stream",
     "text": [
      "1 1\n",
      "True\n"
     ]
    }
   ],
   "source": [
    "#두가지 불린 자료형이 모두 TURE인 것을 반환\n",
    "\n",
    "a, b = input().split(' ')\n",
    "\n",
    "a = int(a)\n",
    "b = int(b)\n",
    "\n",
    "print(bool(a) and bool(b))\n",
    "\n"
   ]
  },
  {
   "cell_type": "code",
   "execution_count": 11,
   "id": "87277a75",
   "metadata": {},
   "outputs": [
    {
     "name": "stdout",
     "output_type": "stream",
     "text": [
      "5 0\n",
      "True\n"
     ]
    }
   ],
   "source": [
    "#두가지 불린 자료형이 둘중에 하나 TURE인 것을 반환\n",
    "\n",
    "a, b = input().split(' ')\n",
    "\n",
    "a = int(a)\n",
    "b = int(b)\n",
    "\n",
    "print(bool(a) or bool(b))\n",
    "\n"
   ]
  },
  {
   "cell_type": "code",
   "execution_count": 20,
   "id": "02e74c3b",
   "metadata": {},
   "outputs": [
    {
     "name": "stdout",
     "output_type": "stream",
     "text": [
      "1 0\n",
      "True\n",
      "False\n"
     ]
    }
   ],
   "source": [
    "# 불값이 다르면 True 같으면 Flase\n",
    "\n",
    "a, b = input().split(' ')\n",
    "\n",
    "c = bool(int(a))\n",
    "d = bool(int(b))\n",
    "\n",
    "print(c and (not d) )\n",
    "\n",
    "print(not(c) and d )\n",
    "\n",
    "\n",
    "\n",
    "\n",
    "\n"
   ]
  },
  {
   "cell_type": "code",
   "execution_count": 35,
   "id": "6788b2f8",
   "metadata": {},
   "outputs": [
    {
     "name": "stdout",
     "output_type": "stream",
     "text": [
      "False\n",
      "True\n",
      " \n",
      "False\n",
      "True\n",
      "False\n",
      " \n",
      "False\n",
      "True\n",
      "True\n",
      " \n",
      "False\n",
      "True\n",
      "True\n",
      "True\n"
     ]
    }
   ],
   "source": [
    "print( bool(int(0)) ) # FALSE\n",
    "print( bool(int(1)) ) # TRUE\n",
    "print(' ')\n",
    "\n",
    "#print bool 자료형은 true?이니? 라고 생각하는게 직관적이다.\n",
    "\n",
    "print( bool(int(0)) and bool(int(0)) ) # FALSE and FALSE    모두 TRUE?   F\n",
    "print( bool(int(1)) and bool(int(1)) ) # TRUE  and TRUE     모두 TRUE?   T\n",
    "print( bool(int(0)) and bool(int(1)) ) # FALSE and TURE     모두 TRUE?   F\n",
    "print(' ')\n",
    "\n",
    "print( bool(int(0)) or  bool(int(0)) ) # FALES or TRUE      한개라도 TRUE? F\n",
    "print( bool(int(1)) or  bool(int(1)) ) # TRUE or TRUE       한개라도 TRUE? T\n",
    "print( bool(int(0)) or  bool(int(1)) ) # FALES or TRUE      한개라도 TRUE? T\n",
    "print(' ')\n",
    "\n",
    "# not 연산 and\n",
    "print( bool(int(0)) and not(bool(int(0))) ) # FALSE and not(FALSE)    모두 TRUE?   F\n",
    "print( not(bool(int(0))) and not(bool(int(0))) ) # not(FALSE) and not(FALSE)    모두 TRUE?   T\n",
    "\n",
    "# not 연산 or\n",
    "print( bool(int(0)) or not(bool(int(0))) ) # FALSE and not(FALSE)    한개라도 TRUE?   F\n",
    "print( not(bool(int(0))) or not(bool(int(0))) ) # not(FALSE) and not(FALSE)    한개라도 TRUE?   T"
   ]
  },
  {
   "cell_type": "code",
   "execution_count": 39,
   "id": "ab222974",
   "metadata": {},
   "outputs": [
    {
     "name": "stdout",
     "output_type": "stream",
     "text": [
      "1 1\n",
      "True\n"
     ]
    }
   ],
   "source": [
    "#하나라도 참인경우 true, 아닌경우 false\n",
    "\n",
    "a, b = input().split(' ')\n",
    "\n",
    "a = int(a)\n",
    "b = int(b)\n",
    "\n",
    "print(bool(a) or bool(b))\n",
    "\n",
    "\n",
    "\n",
    "\n",
    "\n",
    "\n"
   ]
  },
  {
   "cell_type": "code",
   "execution_count": 45,
   "id": "48d005cd",
   "metadata": {},
   "outputs": [
    {
     "name": "stdout",
     "output_type": "stream",
     "text": [
      "1 1\n",
      "False\n"
     ]
    }
   ],
   "source": [
    "#불변수의 값이 다른경우에만 False 이외는 True (다른경우만 감지하고 싶어!!)\n",
    "#결국 1 0   or 0 1 을 코드로 구현하면 된다. (두개 같은 값이 들어온다 가정하고)\n",
    "\n",
    "\n",
    "a, b = input().split(' ')\n",
    "\n",
    "a = int(a)\n",
    "b = int(b)\n",
    "\n",
    "print(   ( bool(a) and not(bool(b)) )       or   ( not(bool(a)) and bool(b) )   ) # or로 봐야함!!\n",
    "#  한개라도 TRUE 인가?\n",
    "\n",
    "#위와 같이 하면 0 0 인경우 F T가 됨에도 불구하고 FALSE 가 반환된다. 즉 b 변수가 다른경우에도..\n",
    "\n",
    "\n",
    "\n",
    "\n",
    "\n",
    "\n"
   ]
  },
  {
   "cell_type": "code",
   "execution_count": 4,
   "id": "7569a712",
   "metadata": {},
   "outputs": [
    {
     "name": "stdout",
     "output_type": "stream",
     "text": [
      "0 0\n",
      "False\n",
      "True\n",
      "True\n"
     ]
    }
   ],
   "source": [
    "#불변수의 값이 같은 TRUE 이외는 FALSE (다른경우만 감지하고 싶어!!)\n",
    "#결국 1 1  OR 0 0 을 코드로 구현하면 된다. (두개 같은 값이 들어온다 가정하고)\n",
    "\n",
    "\n",
    "a, b = input().split(' ')\n",
    "\n",
    "a = int(a)\n",
    "b = int(b)\n",
    "\n",
    "\n",
    "print(   ( bool(a) and bool(b) )  ) # 0 0 의 불린변수는 같음에도 불구하고 두개 다 true냐에서 틀려버림\n",
    "print( ( not(bool(a)) and  not(bool(b)) )   ) # 0 0 NOT(F) NOT(f) T T 로 두개 다 TRUE냐?\n",
    "\n",
    "print(   ( bool(a) and bool(b) )   or   ( not(bool(a)) and  not(bool(b)) )   ) # or로 봐야함!!\n",
    "#  한개라도 TRUE 인가?\n",
    "\n",
    "#위와 같이 하면 0 0 인경우 F T가 됨에도 불구하고 FALSE 가 반환된다. 즉 b 변수가 다른경우에도..\n",
    "\n",
    "\n",
    "\n",
    "\n",
    "\n",
    "\n"
   ]
  },
  {
   "cell_type": "markdown",
   "id": "3d60e028",
   "metadata": {},
   "source": [
    "# 결국에 코드를 당장 구현하는 것이 중요한게아니라\n",
    "# 논리를 확실하게 머리로 생각하고 코드를 수정하며 구현"
   ]
  },
  {
   "cell_type": "code",
   "execution_count": 9,
   "id": "82914860",
   "metadata": {},
   "outputs": [
    {
     "name": "stdout",
     "output_type": "stream",
     "text": [
      "0 1\n",
      "False\n",
      "False\n"
     ]
    }
   ],
   "source": [
    "#2개의 정수값이 입력될 때,\n",
    "#그 불 값(True/False) 이 모두 False 일 때에만 True 를 출력하는 프로그램을 작성해보자.\n",
    "\n",
    "# 0 0 은 두개다 FALSE NOT(1) NOT(1)\n",
    "\n",
    "\n",
    "a, b = input().split(' ')\n",
    "\n",
    "print( (bool(int(a)) and bool(int(b))) )\n",
    "\n",
    "print( (not(bool(int(a))) and not(bool(int(b)))) )\n",
    "\n",
    "\n",
    "\n",
    "\n",
    "\n"
   ]
  },
  {
   "cell_type": "code",
   "execution_count": 11,
   "id": "46f27c5b",
   "metadata": {},
   "outputs": [
    {
     "name": "stdout",
     "output_type": "stream",
     "text": [
      "4\n",
      "-5\n"
     ]
    }
   ],
   "source": [
    "a = int(input())\n",
    "\n",
    "print(~a)"
   ]
  },
  {
   "cell_type": "code",
   "execution_count": 12,
   "id": "609b10c9",
   "metadata": {},
   "outputs": [
    {
     "name": "stdout",
     "output_type": "stream",
     "text": [
      "5 3\n",
      "1\n"
     ]
    }
   ],
   "source": [
    "a, b = input().split(' ')\n",
    "\n",
    "a = int(a)\n",
    "b = int(b)\n",
    "\n",
    "print(a&b) # bit and"
   ]
  },
  {
   "cell_type": "markdown",
   "id": "f2ddf631",
   "metadata": {},
   "source": [
    "# ~(bitwise not), &(bitwise and), |(bitwise or), ^(bitwise xor), <<(bitwise left shift), >>(bitwise right shift"
   ]
  },
  {
   "cell_type": "code",
   "execution_count": 13,
   "id": "94aa4a4f",
   "metadata": {},
   "outputs": [
    {
     "name": "stdout",
     "output_type": "stream",
     "text": [
      "5 3\n",
      "6\n"
     ]
    }
   ],
   "source": [
    "# 베타적 논리합 XOR (두개의 색이 다른 원의 교차되지 않은 부분)\n",
    "\n",
    "a, b = input().split(' ')\n",
    "\n",
    "a = int(a)\n",
    "b = int(b)\n",
    "\n",
    "print(a^b) # bit XOR 그리고 10진수 정수로 출력함"
   ]
  },
  {
   "cell_type": "code",
   "execution_count": 1,
   "id": "3947dc59",
   "metadata": {},
   "outputs": [
    {
     "name": "stdout",
     "output_type": "stream",
     "text": [
      "10\n",
      "110\n"
     ]
    }
   ],
   "source": [
    "#git hub change test\n",
    "\n",
    "a = int(input())\n",
    "\n",
    "print(a+100)"
   ]
  },
  {
   "cell_type": "code",
   "execution_count": null,
   "id": "4243fdd1",
   "metadata": {},
   "outputs": [],
   "source": []
  }
 ],
 "metadata": {
  "kernelspec": {
   "display_name": "Python 3",
   "language": "python",
   "name": "python3"
  },
  "language_info": {
   "codemirror_mode": {
    "name": "ipython",
    "version": 3
   },
   "file_extension": ".py",
   "mimetype": "text/x-python",
   "name": "python",
   "nbconvert_exporter": "python",
   "pygments_lexer": "ipython3",
   "version": "3.9.1"
  }
 },
 "nbformat": 4,
 "nbformat_minor": 5
}
